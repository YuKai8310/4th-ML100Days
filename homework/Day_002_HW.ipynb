{
 "cells": [
  {
   "cell_type": "markdown",
   "metadata": {},
   "source": [
    "## [作業目標]\n",
    "了解機器學習適合應用的領域與範疇。"
   ]
  },
  {
   "cell_type": "markdown",
   "metadata": {},
   "source": [
    "## [作業重點]\n",
    "透過瞭解機器學習的運作方式，找出非常適用機器學習應用的領域及其原因"
   ]
  },
  {
   "cell_type": "markdown",
   "metadata": {},
   "source": [
    "## 作業\n",
    "請找出一個你認為機器學習可以發光發熱的領域並闡述原因? "
   ]
  },
  {
   "cell_type": "code",
   "execution_count": 2,
   "metadata": {},
   "outputs": [
    {
     "data": {
      "text/plain": [
       "'\\n我認為機器學習可以在醫療領域發光發熱，近年來deep learning在圖像識別上有很大的突破，藉由機器學習可以讓機器自動辨識醫學影像，判斷患者的疾病，像是腫瘤、視網膜病變等等，甚至是能夠進行疾病風險預測，所謂預防勝於治療，若能提早得知患病風險那麼就能提早做出防備，目前還有許多疾病的成因不明，若能透過一些特徵來提早預測疾病風險，定時追蹤並在病變第一時間治療，相信可以讓疾病對人體的影響力降到最小。近年來，人類也越來越長壽，高齡醫療照護也是相當重要的一環，加上老年人的身體較虛弱，若病變沒有在第一時間發現，後果時常不堪設想。疾病一直都困擾著人類，人體的器官隨時都乘載著發病的風險，人生若無病痛則是相當幸福的事，因此我認為機器學習未來在醫療領域上有很大的舞台。\\n'"
      ]
     },
     "execution_count": 2,
     "metadata": {},
     "output_type": "execute_result"
    }
   ],
   "source": [
    "'''\n",
    "我認為機器學習可以在醫療領域發光發熱，近年來deep learning在圖像識別上有很大的突破，藉由機器學習可以讓機器自動辨識醫學影像，判斷患者的疾病，像是腫瘤、視網膜病變等等，甚至是能夠進行疾病風險預測，所謂預防勝於治療，若能提早得知患病風險那麼就能提早做出防備，目前還有許多疾病的成因不明，若能透過一些特徵來提早預測疾病風險，定時追蹤並在病變第一時間治療，相信可以讓疾病對人體的影響力降到最小。近年來，人類也越來越長壽，高齡醫療照護也是相當重要的一環，加上老年人的身體較虛弱，若病變沒有在第一時間發現，後果時常不堪設想。疾病一直都困擾著人類，人體的器官隨時都乘載著發病的風險，人生若無病痛則是相當幸福的事，因此我認為機器學習未來在醫療領域上有很大的舞台。\n",
    "'''"
   ]
  },
  {
   "cell_type": "code",
   "execution_count": null,
   "metadata": {},
   "outputs": [],
   "source": []
  }
 ],
 "metadata": {
  "kernelspec": {
   "display_name": "Python 3",
   "language": "python",
   "name": "python3"
  },
  "language_info": {
   "codemirror_mode": {
    "name": "ipython",
    "version": 3
   },
   "file_extension": ".py",
   "mimetype": "text/x-python",
   "name": "python",
   "nbconvert_exporter": "python",
   "pygments_lexer": "ipython3",
   "version": "3.7.4"
  }
 },
 "nbformat": 4,
 "nbformat_minor": 2
}
