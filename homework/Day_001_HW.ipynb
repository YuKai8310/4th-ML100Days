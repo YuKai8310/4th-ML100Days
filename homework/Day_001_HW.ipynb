{
 "cells": [
  {
   "cell_type": "markdown",
   "metadata": {},
   "source": [
    "## 練習時間\n",
    "#### 請寫一個函式用來計算 Mean Square Error\n",
    "$ MSE = \\frac{1}{n}\\sum_{i=1}^{n}{(Y_i - \\hat{Y}_i)^2} $\n",
    "\n",
    "### Hint: [如何取平方](https://googoodesign.gitbooks.io/-ezpython/unit-1.html)"
   ]
  },
  {
   "cell_type": "markdown",
   "metadata": {},
   "source": [
    "# [作業目標]\n",
    "- 仿造範例的MAE函數, 自己寫一個MSE函數(參考上面公式)"
   ]
  },
  {
   "cell_type": "markdown",
   "metadata": {},
   "source": [
    "# [作業重點]\n",
    "- 注意程式的縮排\n",
    "- 是否能將數學公式, 轉換為 Python 的函式組合? (In[2], Out[2])"
   ]
  },
  {
   "cell_type": "code",
   "execution_count": 3,
   "metadata": {},
   "outputs": [],
   "source": [
    "# 載入基礎套件與代稱\n",
    "import numpy as np\n",
    "import matplotlib.pyplot as plt"
   ]
  },
  {
   "cell_type": "code",
   "execution_count": 4,
   "metadata": {},
   "outputs": [],
   "source": [
    "def mean_absolute_error(y, yp):\n",
    "    \"\"\"\n",
    "    計算 MAE\n",
    "    Args:\n",
    "        - y: 實際值\n",
    "        - yp: 預測值\n",
    "    Return:\n",
    "        - mae: MAE\n",
    "    \"\"\"\n",
    "    mae = MAE = sum(abs(y - yp)) / len(y)\n",
    "    return mae\n",
    "\n",
    "# 定義 mean_squared_error 這個函數, 計算並傳回 MSE\n",
    "def mean_squared_error(y, yp):\n",
    "    mse = sum((y - yp)**2)/len(y)\n",
    "    return mse"
   ]
  },
  {
   "cell_type": "code",
   "execution_count": 5,
   "metadata": {},
   "outputs": [
    {
     "data": {
      "image/png": "[encoded data removed]",
      "text/plain": [
       "<Figure size 432x288 with 1 Axes>"
      ]
     },
     "metadata": {
      "needs_background": "light"
     },
     "output_type": "display_data"
    }
   ],
   "source": [
    "# 與範例相同, 不另外解說\n",
    "w = 3\n",
    "b = 0.5\n",
    "x_lin = np.linspace(0, 100, 101)\n",
    "y = (x_lin + np.random.randn(101) * 5) * w + b\n",
    "\n",
    "plt.plot(x_lin, y, 'b.', label = 'data points')\n",
    "plt.title(\"Assume we have data points\")\n",
    "plt.legend(loc = 2)\n",
    "plt.show()"
   ]
  },
  {
   "cell_type": "code",
   "execution_count": 6,
   "metadata": {},
   "outputs": [
    {
     "data": {
      "image/png": "[encoded data removed]",
      "text/plain": [
       "<Figure size 432x288 with 1 Axes>"
      ]
     },
     "metadata": {
      "needs_background": "light"
     },
     "output_type": "display_data"
    }
   ],
   "source": [
    "# 與範例相同, 不另外解說\n",
    "y_hat = x_lin * w + b\n",
    "plt.plot(x_lin, y, 'b.', label = 'data')\n",
    "plt.plot(x_lin, y_hat, 'r-', label = 'prediction')\n",
    "plt.title(\"Assume we have data points (And the prediction)\")\n",
    "plt.legend(loc = 2)\n",
    "plt.show()"
   ]
  },
  {
   "cell_type": "code",
   "execution_count": 7,
   "metadata": {},
   "outputs": [
    {
     "name": "stdout",
     "output_type": "stream",
     "text": [
      "The Mean squared error is 260.848\n",
      "The Mean absolute error is 12.692\n"
     ]
    }
   ],
   "source": [
    "# 執行 Function, 確認有沒有正常執行\n",
    "MSE = mean_squared_error(y, y_hat)\n",
    "MAE = mean_absolute_error(y, y_hat)\n",
    "print(\"The Mean squared error is %.3f\" % (MSE))\n",
    "print(\"The Mean absolute error is %.3f\" % (MAE))"
   ]
  },
  {
   "cell_type": "markdown",
   "metadata": {},
   "source": [
    "# [作業2]\n",
    "\n",
    "請上 Kaggle, 在 Competitions 或 Dataset 中找一組競賽或資料並寫下：\n",
    "\n",
    "1. 你選的這組資料為何重要\n",
    "\n",
    "2. 資料從何而來 (tips: 譬如提供者是誰、以什麼方式蒐集)\n",
    "\n",
    "3. 蒐集而來的資料型態為何\n",
    "\n",
    "4. 這組資料想解決的問題如何評估\n",
    "\n",
    "Answer:\n",
    "\n",
    "    資料名稱：Novel Corona Virus 2019 Dataset\n",
    "    \n",
    "    1. 此數據集記錄了從2020/1/22開始，世界各地區有關新型冠狀病毒(covid-19)受影響病例的日資料，包含確診病例累計數量、累計死亡人數、累計康復人數，此新型冠狀病毒傳染性極強，發源於中國武漢並在中國個省分迅速蔓延，現已蔓延到全世界，由於感染力極強，加上疫苗尚未開發出來，世界各國均開始採取積極的防疫措施，而由此資料能了解病毒在各國各區域的蔓延情況，有關當局能分析此資料來作為制定防疫措施的參考。\n",
    "    \n",
    "    2.此資料是源於Johns Hopkins CSSE的數據庫\n",
    "    並蒐集自以下地方：\n",
    "    World Health Organization (WHO): https://www.who.int/\n",
    "    DXY.cn. Pneumonia. 2020. http://3g.dxy.cn/newh5/view/pneumonia.\n",
    "    BNO News: https://bnonews.com/index.php/2020/02/the-latest-coronavirus-cases/\n",
    "    National Health Commission of the People’s Republic of China (NHC):http://www.nhc.gov.cn/xcs/yqtb/list_gzbd.shtml\n",
    "    China CDC (CCDC): http://weekly.chinacdc.cn/news/TrackingtheEpidemic.htm\n",
    "    Hong Kong Department of Health: https://www.chp.gov.hk/en/features/102465.html\n",
    "    Macau Government: https://www.ssm.gov.mo/portal/\n",
    "    Taiwan CDC: https://sites.google.com/cdc.gov.tw/2019ncov/taiwan?authuser=0\n",
    "    US CDC: https://www.cdc.gov/coronavirus/2019-ncov/index.html\n",
    "    Government of Canada: https://www.canada.ca/en/public-health/services/diseases/coronavirus.html\n",
    "    Australia Government Department of Health: https://www.health.gov.au/news/coronavirus-update-at-a-glance\n",
    "    European Centre for Disease Prevention and Control (ECDC): https://www.ecdc.europa.eu/en/geographical-distribution-2019-ncov-cases\n",
    "    Ministry of Health Singapore (MOH): https://www.moh.gov.sg/covid-19\n",
    "    Italy Ministry of Health: http://www.salute.gov.it/nuovocoronavirus\n",
    "    \n",
    "    3.蒐集來的資料型態為dataframe，並為時間序列。\n",
    "    \n",
    "    4.此資料可以評估各地區的防疫政策是否有效以及該地區疫情的嚴重程度，透過時間序列的累計的確診人數可以了解到該地區確診人數是否放緩，若累計確診人數呈現指數型成長趨勢，該地區則應該要檢討防疫政策，改善防疫措施，並可以參考確診人數放緩的地區，而政府可以透過此數據觀察各地區疫情的嚴重程度，有效分配醫療資源，並對疫情嚴重的地區進行進出控管。\n",
    "\n",
    "# [作業3]\n",
    "\n",
    "想像你經營一個自由載客車隊，你希望能透過數據分析以提升業績，請你思考並描述你如何規劃整體的分析/解決方案：\n",
    "\n",
    "1. 核心問題為何 (tips：如何定義 「提升業績 & 你的假設」)\n",
    "\n",
    "2. 資料從何而來 (tips：哪些資料可能會對你想問的問題產生影響 & 資料如何蒐集)\n",
    "\n",
    "3. 蒐集而來的資料型態為何\n",
    "\n",
    "4. 你要回答的問題，其如何評估 (tips：你的假設如何驗證)\n",
    "\n",
    "Answer:\n",
    "\n",
    "    1.不同時段各地區搭車的需求人數\n",
    "    \n",
    "    2.蒐集各時段各地區app的叫車人數\n",
    "    \n",
    "    3.資料結構以dataframe呈現，並為橫斷面資料\n",
    "    \n",
    "    4.根據各時段各地區叫車熱門度，有效分配車輛，讓空車情況最小化。"
   ]
  }
 ],
 "metadata": {
  "anaconda-cloud": {},
  "kernelspec": {
   "display_name": "Python 3",
   "language": "python",
   "name": "python3"
  },
  "language_info": {
   "codemirror_mode": {
    "name": "ipython",
    "version": 3
   },
   "file_extension": ".py",
   "mimetype": "text/x-python",
   "name": "python",
   "nbconvert_exporter": "python",
   "pygments_lexer": "ipython3",
   "version": "3.7.4"
  }
 },
 "nbformat": 4,
 "nbformat_minor": 1
}
